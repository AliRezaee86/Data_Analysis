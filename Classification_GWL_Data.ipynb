{
 "cells": [
  {
   "cell_type": "code",
   "execution_count": 1,
   "id": "357af0e5",
   "metadata": {},
   "outputs": [
    {
     "name": "stdout",
     "output_type": "stream",
     "text": [
      "C:\\Program Files\\Microsoft VS Code\n"
     ]
    }
   ],
   "source": [
    "import os\n",
    "print(os.getcwd())"
   ]
  },
  {
   "cell_type": "code",
   "execution_count": 2,
   "id": "f84d428f",
   "metadata": {},
   "outputs": [
    {
     "name": "stdout",
     "output_type": "stream",
     "text": [
      "H:\\Regional_Water_Company\\For_WR_Report\\GWL_BED_Problem\n"
     ]
    }
   ],
   "source": [
    "import os\n",
    "\n",
    "# Change to your project directory (update the path as needed)\n",
    "os.chdir(r\"H:\\Regional_Water_Company\\For_WR_Report\\GWL_BED_Problem\")\n",
    "\n",
    "# Verify the change\n",
    "print(os.getcwd())"
   ]
  },
  {
   "cell_type": "code",
   "execution_count": 3,
   "id": "06644670",
   "metadata": {},
   "outputs": [
    {
     "name": "stdout",
     "output_type": "stream",
     "text": [
      "H:\\Regional_Water_Company\\For_WR_Report\\GWL_BED_Problem\n"
     ]
    }
   ],
   "source": [
    "import os\n",
    "print(os.getcwd())"
   ]
  },
  {
   "cell_type": "code",
   "execution_count": 4,
   "id": "0c1cb869",
   "metadata": {},
   "outputs": [
    {
     "name": "stdout",
     "output_type": "stream",
     "text": [
      "  LOCATION  WATER_TABLE DATE_GREGORIAN\n",
      "0      ملی        27.20     2017-02-27\n",
      "1      ملی        26.51     2017-04-04\n",
      "2      ملی        26.63     2017-05-16\n",
      "3      ملی        30.13     2017-06-11\n",
      "4      ملی        28.25     2017-07-17\n"
     ]
    }
   ],
   "source": [
    "import pandas as pd\n",
    "\n",
    "# Read the Excel file\n",
    "df = pd.read_excel(\"Data_For_City.xlsx\")\n",
    "# Show the first 5 rows\n",
    "print(df.head())"
   ]
  },
  {
   "cell_type": "code",
   "execution_count": 5,
   "id": "395740cb",
   "metadata": {},
   "outputs": [
    {
     "name": "stdout",
     "output_type": "stream",
     "text": [
      "    LOCATION          X          Y\n",
      "0   یکه لنگه  58.860913  36.757687\n",
      "1  هاشم آباد  59.274253  36.489749\n",
      "2      نومهن  59.206874  36.687374\n",
      "3  مومن آباد  58.764284  36.858245\n",
      "4     موچنان  58.820747  36.881811\n"
     ]
    }
   ],
   "source": [
    "import pandas as pd\n",
    "\n",
    "# Read the Excel file\n",
    "df = pd.read_excel(\"Loc.xlsx\")\n",
    "# Show the first 5 rows\n",
    "print(df.head())"
   ]
  }
 ],
 "metadata": {
  "kernelspec": {
   "display_name": "Python 3",
   "language": "python",
   "name": "python3"
  },
  "language_info": {
   "codemirror_mode": {
    "name": "ipython",
    "version": 3
   },
   "file_extension": ".py",
   "mimetype": "text/x-python",
   "name": "python",
   "nbconvert_exporter": "python",
   "pygments_lexer": "ipython3",
   "version": "3.11.8"
  }
 },
 "nbformat": 4,
 "nbformat_minor": 5
}
